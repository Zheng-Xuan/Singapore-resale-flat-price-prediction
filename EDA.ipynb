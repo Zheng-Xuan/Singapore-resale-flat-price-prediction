{
 "cells": [
  {
   "cell_type": "markdown",
   "metadata": {},
   "source": [
    "# Exploratory Data Analysis\n",
    "\n",
    "In this notebook, EDA will be performed on the resale flat prices in Singapore to better understand the dataset"
   ]
  },
  {
   "cell_type": "markdown",
   "metadata": {},
   "source": [
    "## Import required libraries"
   ]
  },
  {
   "cell_type": "code",
   "execution_count": 41,
   "metadata": {},
   "outputs": [],
   "source": [
    "import pandas as pd\n",
    "import numpy as np\n",
    "import matplotlib.pyplot as plt"
   ]
  },
  {
   "cell_type": "markdown",
   "metadata": {},
   "source": [
    "## Load the dataset"
   ]
  },
  {
   "cell_type": "code",
   "execution_count": 42,
   "metadata": {},
   "outputs": [
    {
     "name": "stdout",
     "output_type": "stream",
     "text": [
      "<class 'pandas.core.frame.DataFrame'>\n",
      "RangeIndex: 287196 entries, 0 to 287195\n",
      "Data columns (total 10 columns):\n",
      " #   Column               Non-Null Count   Dtype         \n",
      "---  ------               --------------   -----         \n",
      " 0   month                287196 non-null  datetime64[ns]\n",
      " 1   town                 287196 non-null  object        \n",
      " 2   flat_type            287196 non-null  object        \n",
      " 3   block                287196 non-null  object        \n",
      " 4   street_name          287196 non-null  object        \n",
      " 5   storey_range         287196 non-null  object        \n",
      " 6   floor_area_sqm       287196 non-null  float64       \n",
      " 7   flat_model           287196 non-null  object        \n",
      " 8   lease_commence_date  287196 non-null  datetime64[ns]\n",
      " 9   resale_price         287196 non-null  int64         \n",
      "dtypes: datetime64[ns](2), float64(1), int64(1), object(6)\n",
      "memory usage: 21.9+ MB\n"
     ]
    }
   ],
   "source": [
    "raw_data = pd.read_csv('raw_flat_prices_data.csv', parse_dates= ['month', 'lease_commence_date'])\n",
    "\n",
    "raw_data.info()"
   ]
  },
  {
   "cell_type": "code",
   "execution_count": 43,
   "metadata": {},
   "outputs": [
    {
     "data": {
      "text/html": [
       "<div>\n",
       "<style scoped>\n",
       "    .dataframe tbody tr th:only-of-type {\n",
       "        vertical-align: middle;\n",
       "    }\n",
       "\n",
       "    .dataframe tbody tr th {\n",
       "        vertical-align: top;\n",
       "    }\n",
       "\n",
       "    .dataframe thead th {\n",
       "        text-align: right;\n",
       "    }\n",
       "</style>\n",
       "<table border=\"1\" class=\"dataframe\">\n",
       "  <thead>\n",
       "    <tr style=\"text-align: right;\">\n",
       "      <th></th>\n",
       "      <th>month</th>\n",
       "      <th>town</th>\n",
       "      <th>flat_type</th>\n",
       "      <th>block</th>\n",
       "      <th>street_name</th>\n",
       "      <th>storey_range</th>\n",
       "      <th>floor_area_sqm</th>\n",
       "      <th>flat_model</th>\n",
       "      <th>lease_commence_date</th>\n",
       "      <th>resale_price</th>\n",
       "    </tr>\n",
       "  </thead>\n",
       "  <tbody>\n",
       "    <tr>\n",
       "      <th>0</th>\n",
       "      <td>1990-01-01</td>\n",
       "      <td>ANG MO KIO</td>\n",
       "      <td>1 ROOM</td>\n",
       "      <td>309</td>\n",
       "      <td>ANG MO KIO AVE 1</td>\n",
       "      <td>10 TO 12</td>\n",
       "      <td>31.0</td>\n",
       "      <td>IMPROVED</td>\n",
       "      <td>1977-01-01</td>\n",
       "      <td>9000</td>\n",
       "    </tr>\n",
       "    <tr>\n",
       "      <th>1</th>\n",
       "      <td>1990-01-01</td>\n",
       "      <td>ANG MO KIO</td>\n",
       "      <td>1 ROOM</td>\n",
       "      <td>309</td>\n",
       "      <td>ANG MO KIO AVE 1</td>\n",
       "      <td>04 TO 06</td>\n",
       "      <td>31.0</td>\n",
       "      <td>IMPROVED</td>\n",
       "      <td>1977-01-01</td>\n",
       "      <td>6000</td>\n",
       "    </tr>\n",
       "    <tr>\n",
       "      <th>2</th>\n",
       "      <td>1990-01-01</td>\n",
       "      <td>ANG MO KIO</td>\n",
       "      <td>1 ROOM</td>\n",
       "      <td>309</td>\n",
       "      <td>ANG MO KIO AVE 1</td>\n",
       "      <td>10 TO 12</td>\n",
       "      <td>31.0</td>\n",
       "      <td>IMPROVED</td>\n",
       "      <td>1977-01-01</td>\n",
       "      <td>8000</td>\n",
       "    </tr>\n",
       "    <tr>\n",
       "      <th>3</th>\n",
       "      <td>1990-01-01</td>\n",
       "      <td>ANG MO KIO</td>\n",
       "      <td>1 ROOM</td>\n",
       "      <td>309</td>\n",
       "      <td>ANG MO KIO AVE 1</td>\n",
       "      <td>07 TO 09</td>\n",
       "      <td>31.0</td>\n",
       "      <td>IMPROVED</td>\n",
       "      <td>1977-01-01</td>\n",
       "      <td>6000</td>\n",
       "    </tr>\n",
       "    <tr>\n",
       "      <th>4</th>\n",
       "      <td>1990-01-01</td>\n",
       "      <td>ANG MO KIO</td>\n",
       "      <td>3 ROOM</td>\n",
       "      <td>216</td>\n",
       "      <td>ANG MO KIO AVE 1</td>\n",
       "      <td>04 TO 06</td>\n",
       "      <td>73.0</td>\n",
       "      <td>NEW GENERATION</td>\n",
       "      <td>1976-01-01</td>\n",
       "      <td>47200</td>\n",
       "    </tr>\n",
       "  </tbody>\n",
       "</table>\n",
       "</div>"
      ],
      "text/plain": [
       "       month        town flat_type block       street_name storey_range  \\\n",
       "0 1990-01-01  ANG MO KIO    1 ROOM   309  ANG MO KIO AVE 1     10 TO 12   \n",
       "1 1990-01-01  ANG MO KIO    1 ROOM   309  ANG MO KIO AVE 1     04 TO 06   \n",
       "2 1990-01-01  ANG MO KIO    1 ROOM   309  ANG MO KIO AVE 1     10 TO 12   \n",
       "3 1990-01-01  ANG MO KIO    1 ROOM   309  ANG MO KIO AVE 1     07 TO 09   \n",
       "4 1990-01-01  ANG MO KIO    3 ROOM   216  ANG MO KIO AVE 1     04 TO 06   \n",
       "\n",
       "   floor_area_sqm      flat_model lease_commence_date  resale_price  \n",
       "0            31.0        IMPROVED          1977-01-01          9000  \n",
       "1            31.0        IMPROVED          1977-01-01          6000  \n",
       "2            31.0        IMPROVED          1977-01-01          8000  \n",
       "3            31.0        IMPROVED          1977-01-01          6000  \n",
       "4            73.0  NEW GENERATION          1976-01-01         47200  "
      ]
     },
     "execution_count": 43,
     "metadata": {},
     "output_type": "execute_result"
    }
   ],
   "source": [
    "raw_data.head(5)"
   ]
  },
  {
   "cell_type": "code",
   "execution_count": 44,
   "metadata": {},
   "outputs": [
    {
     "data": {
      "text/plain": [
       "False"
      ]
     },
     "execution_count": 44,
     "metadata": {},
     "output_type": "execute_result"
    }
   ],
   "source": [
    "raw_data.isnull().values.any()"
   ]
  },
  {
   "cell_type": "markdown",
   "metadata": {},
   "source": [
    "## Analysis on the month column"
   ]
  },
  {
   "cell_type": "code",
   "execution_count": 45,
   "metadata": {},
   "outputs": [
    {
     "data": {
      "text/html": [
       "<div>\n",
       "<style scoped>\n",
       "    .dataframe tbody tr th:only-of-type {\n",
       "        vertical-align: middle;\n",
       "    }\n",
       "\n",
       "    .dataframe tbody tr th {\n",
       "        vertical-align: top;\n",
       "    }\n",
       "\n",
       "    .dataframe thead th {\n",
       "        text-align: right;\n",
       "    }\n",
       "</style>\n",
       "<table border=\"1\" class=\"dataframe\">\n",
       "  <thead>\n",
       "    <tr style=\"text-align: right;\">\n",
       "      <th></th>\n",
       "      <th>month</th>\n",
       "      <th>resale_price</th>\n",
       "    </tr>\n",
       "  </thead>\n",
       "  <tbody>\n",
       "    <tr>\n",
       "      <th>0</th>\n",
       "      <td>1990-01-01</td>\n",
       "      <td>9000</td>\n",
       "    </tr>\n",
       "    <tr>\n",
       "      <th>1</th>\n",
       "      <td>1990-01-01</td>\n",
       "      <td>6000</td>\n",
       "    </tr>\n",
       "    <tr>\n",
       "      <th>2</th>\n",
       "      <td>1990-01-01</td>\n",
       "      <td>8000</td>\n",
       "    </tr>\n",
       "    <tr>\n",
       "      <th>3</th>\n",
       "      <td>1990-01-01</td>\n",
       "      <td>6000</td>\n",
       "    </tr>\n",
       "    <tr>\n",
       "      <th>4</th>\n",
       "      <td>1990-01-01</td>\n",
       "      <td>47200</td>\n",
       "    </tr>\n",
       "    <tr>\n",
       "      <th>...</th>\n",
       "      <td>...</td>\n",
       "      <td>...</td>\n",
       "    </tr>\n",
       "    <tr>\n",
       "      <th>287191</th>\n",
       "      <td>1999-12-01</td>\n",
       "      <td>456000</td>\n",
       "    </tr>\n",
       "    <tr>\n",
       "      <th>287192</th>\n",
       "      <td>1999-12-01</td>\n",
       "      <td>408000</td>\n",
       "    </tr>\n",
       "    <tr>\n",
       "      <th>287193</th>\n",
       "      <td>1999-12-01</td>\n",
       "      <td>469000</td>\n",
       "    </tr>\n",
       "    <tr>\n",
       "      <th>287194</th>\n",
       "      <td>1999-12-01</td>\n",
       "      <td>440000</td>\n",
       "    </tr>\n",
       "    <tr>\n",
       "      <th>287195</th>\n",
       "      <td>1999-12-01</td>\n",
       "      <td>484000</td>\n",
       "    </tr>\n",
       "  </tbody>\n",
       "</table>\n",
       "<p>287196 rows × 2 columns</p>\n",
       "</div>"
      ],
      "text/plain": [
       "            month  resale_price\n",
       "0      1990-01-01          9000\n",
       "1      1990-01-01          6000\n",
       "2      1990-01-01          8000\n",
       "3      1990-01-01          6000\n",
       "4      1990-01-01         47200\n",
       "...           ...           ...\n",
       "287191 1999-12-01        456000\n",
       "287192 1999-12-01        408000\n",
       "287193 1999-12-01        469000\n",
       "287194 1999-12-01        440000\n",
       "287195 1999-12-01        484000\n",
       "\n",
       "[287196 rows x 2 columns]"
      ]
     },
     "execution_count": 45,
     "metadata": {},
     "output_type": "execute_result"
    }
   ],
   "source": [
    "df_month = raw_data[['month', 'resale_price']]\n",
    "df_month = df_month.copy(deep= True)\n",
    "\n",
    "df_month"
   ]
  },
  {
   "cell_type": "code",
   "execution_count": 46,
   "metadata": {},
   "outputs": [
    {
     "data": {
      "text/html": [
       "<div>\n",
       "<style scoped>\n",
       "    .dataframe tbody tr th:only-of-type {\n",
       "        vertical-align: middle;\n",
       "    }\n",
       "\n",
       "    .dataframe tbody tr th {\n",
       "        vertical-align: top;\n",
       "    }\n",
       "\n",
       "    .dataframe thead th {\n",
       "        text-align: right;\n",
       "    }\n",
       "</style>\n",
       "<table border=\"1\" class=\"dataframe\">\n",
       "  <thead>\n",
       "    <tr style=\"text-align: right;\">\n",
       "      <th></th>\n",
       "      <th>month</th>\n",
       "      <th>resale_price</th>\n",
       "      <th>year_of_transaction</th>\n",
       "      <th>quarter</th>\n",
       "    </tr>\n",
       "  </thead>\n",
       "  <tbody>\n",
       "    <tr>\n",
       "      <th>0</th>\n",
       "      <td>1990-01-01</td>\n",
       "      <td>9000</td>\n",
       "      <td>1990</td>\n",
       "      <td>1</td>\n",
       "    </tr>\n",
       "    <tr>\n",
       "      <th>1</th>\n",
       "      <td>1990-01-01</td>\n",
       "      <td>6000</td>\n",
       "      <td>1990</td>\n",
       "      <td>1</td>\n",
       "    </tr>\n",
       "    <tr>\n",
       "      <th>2</th>\n",
       "      <td>1990-01-01</td>\n",
       "      <td>8000</td>\n",
       "      <td>1990</td>\n",
       "      <td>1</td>\n",
       "    </tr>\n",
       "    <tr>\n",
       "      <th>3</th>\n",
       "      <td>1990-01-01</td>\n",
       "      <td>6000</td>\n",
       "      <td>1990</td>\n",
       "      <td>1</td>\n",
       "    </tr>\n",
       "    <tr>\n",
       "      <th>4</th>\n",
       "      <td>1990-01-01</td>\n",
       "      <td>47200</td>\n",
       "      <td>1990</td>\n",
       "      <td>1</td>\n",
       "    </tr>\n",
       "    <tr>\n",
       "      <th>...</th>\n",
       "      <td>...</td>\n",
       "      <td>...</td>\n",
       "      <td>...</td>\n",
       "      <td>...</td>\n",
       "    </tr>\n",
       "    <tr>\n",
       "      <th>287191</th>\n",
       "      <td>1999-12-01</td>\n",
       "      <td>456000</td>\n",
       "      <td>1999</td>\n",
       "      <td>4</td>\n",
       "    </tr>\n",
       "    <tr>\n",
       "      <th>287192</th>\n",
       "      <td>1999-12-01</td>\n",
       "      <td>408000</td>\n",
       "      <td>1999</td>\n",
       "      <td>4</td>\n",
       "    </tr>\n",
       "    <tr>\n",
       "      <th>287193</th>\n",
       "      <td>1999-12-01</td>\n",
       "      <td>469000</td>\n",
       "      <td>1999</td>\n",
       "      <td>4</td>\n",
       "    </tr>\n",
       "    <tr>\n",
       "      <th>287194</th>\n",
       "      <td>1999-12-01</td>\n",
       "      <td>440000</td>\n",
       "      <td>1999</td>\n",
       "      <td>4</td>\n",
       "    </tr>\n",
       "    <tr>\n",
       "      <th>287195</th>\n",
       "      <td>1999-12-01</td>\n",
       "      <td>484000</td>\n",
       "      <td>1999</td>\n",
       "      <td>4</td>\n",
       "    </tr>\n",
       "  </tbody>\n",
       "</table>\n",
       "<p>287196 rows × 4 columns</p>\n",
       "</div>"
      ],
      "text/plain": [
       "            month  resale_price  year_of_transaction  quarter\n",
       "0      1990-01-01          9000                 1990        1\n",
       "1      1990-01-01          6000                 1990        1\n",
       "2      1990-01-01          8000                 1990        1\n",
       "3      1990-01-01          6000                 1990        1\n",
       "4      1990-01-01         47200                 1990        1\n",
       "...           ...           ...                  ...      ...\n",
       "287191 1999-12-01        456000                 1999        4\n",
       "287192 1999-12-01        408000                 1999        4\n",
       "287193 1999-12-01        469000                 1999        4\n",
       "287194 1999-12-01        440000                 1999        4\n",
       "287195 1999-12-01        484000                 1999        4\n",
       "\n",
       "[287196 rows x 4 columns]"
      ]
     },
     "execution_count": 46,
     "metadata": {},
     "output_type": "execute_result"
    }
   ],
   "source": [
    "# Generate 2 features: Year of transanction and the quarter of the year in which it is transacted\n",
    "\n",
    "df_month['year_of_transaction'] = df_month['month'].dt.year\n",
    "df_month['quarter'] = df_month['month'].dt.quarter\n",
    "\n",
    "df_month"
   ]
  },
  {
   "cell_type": "code",
   "execution_count": 47,
   "metadata": {},
   "outputs": [
    {
     "data": {
      "image/png": "[encoded data removed]",
      "text/plain": [
       "<Figure size 576x288 with 1 Axes>"
      ]
     },
     "metadata": {
      "needs_background": "light"
     },
     "output_type": "display_data"
    }
   ],
   "source": [
    "# Show the distribution of data count over the years\n",
    "\n",
    "data_counts_by_year = df_month.groupby(['year_of_transaction'])['year_of_transaction'].count()\n",
    "\n",
    "plt.figure(figsize= (8, 4))\n",
    "plt.bar(data_counts_by_year.index, data_counts_by_year.values)\n",
    "plt.xlabel('Year of transaction')\n",
    "plt.ylabel('Transaction count')\n",
    "plt.title('Count of resale flat data from 1990 to 1999')\n",
    "plt.show()"
   ]
  },
  {
   "cell_type": "code",
   "execution_count": 48,
   "metadata": {},
   "outputs": [
    {
     "data": {
      "image/png": "[encoded data removed]",
      "text/plain": [
       "<Figure size 432x288 with 1 Axes>"
      ]
     },
     "metadata": {
      "needs_background": "light"
     },
     "output_type": "display_data"
    }
   ],
   "source": [
    "# Show average prices over the years\n",
    "\n",
    "avg_prices_by_year = df_month.groupby(['year_of_transaction'])['resale_price'].mean()\n",
    "\n",
    "plt.plot(avg_prices_by_year.index, avg_prices_by_year.values)\n",
    "plt.xlabel('Year of transaction')\n",
    "plt.ylabel('Average price')\n",
    "plt.title('Average resale price from 1990 to 1999')\n",
    "plt.show()"
   ]
  },
  {
   "cell_type": "code",
   "execution_count": 49,
   "metadata": {},
   "outputs": [
    {
     "data": {
      "image/png": "[encoded data removed]",
      "text/plain": [
       "<Figure size 576x288 with 1 Axes>"
      ]
     },
     "metadata": {
      "needs_background": "light"
     },
     "output_type": "display_data"
    }
   ],
   "source": [
    "# Show distribution of data count over the quarters\n",
    "\n",
    "data_counts_by_quarter = df_month.groupby(['quarter'])['quarter'].count()\n",
    "\n",
    "plt.figure(figsize= (8, 4))\n",
    "plt.bar(data_counts_by_quarter.index, data_counts_by_quarter.values)\n",
    "plt.xlabel('Quarter')\n",
    "plt.ylabel('Transaction count')\n",
    "plt.title('Count of resale flat data by quarter from 1990 to 1999')\n",
    "plt.show()"
   ]
  },
  {
   "cell_type": "code",
   "execution_count": 50,
   "metadata": {},
   "outputs": [
    {
     "data": {
      "image/png": "[encoded data removed]",
      "text/plain": [
       "<Figure size 432x288 with 1 Axes>"
      ]
     },
     "metadata": {
      "needs_background": "light"
     },
     "output_type": "display_data"
    }
   ],
   "source": [
    "# Show average prices by quarter\n",
    "\n",
    "avg_prices_by_quarter = df_month.groupby(['quarter'])['resale_price'].mean()\n",
    "\n",
    "plt.scatter(avg_prices_by_quarter.index, avg_prices_by_quarter.values)\n",
    "plt.xlabel('Quarter')\n",
    "plt.ylabel('Average price')\n",
    "plt.title('Average resale price by quarter from 1990 to 1999')\n",
    "plt.show()"
   ]
  },
  {
   "cell_type": "markdown",
   "metadata": {},
   "source": [
    "## Conclusions for month column\n",
    "\n",
    "* There are more data collected over the years \n",
    "* Prices of resale flats increased over the years\n",
    "* Relatively equal number of data collected per quarter\n",
    "* Average price by quarter is relatively similar (about < 10% difference)"
   ]
  },
  {
   "cell_type": "markdown",
   "metadata": {},
   "source": [
    "## Analysis on the Town column"
   ]
  },
  {
   "cell_type": "code",
   "execution_count": 51,
   "metadata": {},
   "outputs": [
    {
     "data": {
      "text/html": [
       "<div>\n",
       "<style scoped>\n",
       "    .dataframe tbody tr th:only-of-type {\n",
       "        vertical-align: middle;\n",
       "    }\n",
       "\n",
       "    .dataframe tbody tr th {\n",
       "        vertical-align: top;\n",
       "    }\n",
       "\n",
       "    .dataframe thead th {\n",
       "        text-align: right;\n",
       "    }\n",
       "</style>\n",
       "<table border=\"1\" class=\"dataframe\">\n",
       "  <thead>\n",
       "    <tr style=\"text-align: right;\">\n",
       "      <th></th>\n",
       "      <th>town</th>\n",
       "      <th>resale_price</th>\n",
       "    </tr>\n",
       "  </thead>\n",
       "  <tbody>\n",
       "    <tr>\n",
       "      <th>0</th>\n",
       "      <td>ANG MO KIO</td>\n",
       "      <td>9000</td>\n",
       "    </tr>\n",
       "    <tr>\n",
       "      <th>1</th>\n",
       "      <td>ANG MO KIO</td>\n",
       "      <td>6000</td>\n",
       "    </tr>\n",
       "    <tr>\n",
       "      <th>2</th>\n",
       "      <td>ANG MO KIO</td>\n",
       "      <td>8000</td>\n",
       "    </tr>\n",
       "    <tr>\n",
       "      <th>3</th>\n",
       "      <td>ANG MO KIO</td>\n",
       "      <td>6000</td>\n",
       "    </tr>\n",
       "    <tr>\n",
       "      <th>4</th>\n",
       "      <td>ANG MO KIO</td>\n",
       "      <td>47200</td>\n",
       "    </tr>\n",
       "    <tr>\n",
       "      <th>...</th>\n",
       "      <td>...</td>\n",
       "      <td>...</td>\n",
       "    </tr>\n",
       "    <tr>\n",
       "      <th>287191</th>\n",
       "      <td>YISHUN</td>\n",
       "      <td>456000</td>\n",
       "    </tr>\n",
       "    <tr>\n",
       "      <th>287192</th>\n",
       "      <td>YISHUN</td>\n",
       "      <td>408000</td>\n",
       "    </tr>\n",
       "    <tr>\n",
       "      <th>287193</th>\n",
       "      <td>YISHUN</td>\n",
       "      <td>469000</td>\n",
       "    </tr>\n",
       "    <tr>\n",
       "      <th>287194</th>\n",
       "      <td>YISHUN</td>\n",
       "      <td>440000</td>\n",
       "    </tr>\n",
       "    <tr>\n",
       "      <th>287195</th>\n",
       "      <td>YISHUN</td>\n",
       "      <td>484000</td>\n",
       "    </tr>\n",
       "  </tbody>\n",
       "</table>\n",
       "<p>287196 rows × 2 columns</p>\n",
       "</div>"
      ],
      "text/plain": [
       "              town  resale_price\n",
       "0       ANG MO KIO          9000\n",
       "1       ANG MO KIO          6000\n",
       "2       ANG MO KIO          8000\n",
       "3       ANG MO KIO          6000\n",
       "4       ANG MO KIO         47200\n",
       "...            ...           ...\n",
       "287191      YISHUN        456000\n",
       "287192      YISHUN        408000\n",
       "287193      YISHUN        469000\n",
       "287194      YISHUN        440000\n",
       "287195      YISHUN        484000\n",
       "\n",
       "[287196 rows x 2 columns]"
      ]
     },
     "execution_count": 51,
     "metadata": {},
     "output_type": "execute_result"
    }
   ],
   "source": [
    "df_town = raw_data[['town', 'resale_price']]\n",
    "df_town = df_town.copy(deep= True)\n",
    "\n",
    "df_town"
   ]
  },
  {
   "cell_type": "code",
   "execution_count": 52,
   "metadata": {},
   "outputs": [
    {
     "data": {
      "image/png": "[encoded data removed]",
      "text/plain": [
       "<Figure size 3456x864 with 1 Axes>"
      ]
     },
     "metadata": {
      "needs_background": "light"
     },
     "output_type": "display_data"
    }
   ],
   "source": [
    "# Show distribution of data counts by town\n",
    "\n",
    "data_counts_by_town = df_town.groupby(['town'])['town'].count()\n",
    "\n",
    "plt.figure(figsize= (48, 12))\n",
    "plt.bar(data_counts_by_town.index, data_counts_by_town.values)\n",
    "plt.xlabel('Town')\n",
    "plt.ylabel('Transaction counts')\n",
    "plt.title('Number of resale transaction by town from 1990 to 1999')\n",
    "plt.show()"
   ]
  },
  {
   "cell_type": "code",
   "execution_count": 53,
   "metadata": {},
   "outputs": [
    {
     "data": {
      "image/png": "[encoded data removed]",
      "text/plain": [
       "<Figure size 3456x864 with 1 Axes>"
      ]
     },
     "metadata": {
      "needs_background": "light"
     },
     "output_type": "display_data"
    }
   ],
   "source": [
    "# Show price distribution by town\n",
    "\n",
    "avg_prices_by_town = df_town.groupby(['town'])['resale_price'].mean()\n",
    "\n",
    "plt.figure(figsize= (48, 12))\n",
    "plt.bar(avg_prices_by_town.index, avg_prices_by_town.values)\n",
    "plt.xlabel('Town')\n",
    "plt.ylabel('Average resale price')\n",
    "plt.title('Average resale price by town from 1990 to 1999')\n",
    "plt.show()"
   ]
  },
  {
   "cell_type": "code",
   "execution_count": 54,
   "metadata": {},
   "outputs": [],
   "source": [
    "regions = {\n",
    "    'ANG MO KIO': 'North-East',\n",
    "    'BEDOK': 'East',\n",
    "    'BISHAN': 'Central',\n",
    "    'BUKIT BATOK': 'West',\n",
    "    'BUKIT MERAH': 'Central',\n",
    "    'BUKIT PANJANG': 'West',\n",
    "    'BUKIT TIMAH': 'Central',\n",
    "    'CENTRAL AREA': 'Central',\n",
    "    'CHOA CHU KANG': 'West',\n",
    "    'CLEMENTI': 'West',\n",
    "    'GEYLANG': 'Central',\n",
    "    'HOUGANG': 'North-East',\n",
    "    'JURONG EAST': 'West',\n",
    "    'JURONG WEST': 'West',\n",
    "    'KALLANG/WHAMPOA': 'Central',\n",
    "    'LIM CHU KANG': 'North',\n",
    "    'MARINE PARADE': 'Central',\n",
    "    'PASIR RIS': 'East',\n",
    "    'QUEENSTOWN': 'Central',\n",
    "    'SEMBAWANG': 'North',\n",
    "    'SENGKANG': 'North-East',\n",
    "    'SERANGOON': 'North-East',\n",
    "    'TAMPINES': 'East',\n",
    "    'TOA PAYOH': 'Central',\n",
    "    'WOODLANDS': 'North',\n",
    "    'YISHUN': 'North'\n",
    "}\n"
   ]
  },
  {
   "cell_type": "code",
   "execution_count": 55,
   "metadata": {},
   "outputs": [
    {
     "name": "stdout",
     "output_type": "stream",
     "text": [
      "287196\n"
     ]
    }
   ],
   "source": [
    "region_series = []\n",
    "\n",
    "for t in df_town['town']:\n",
    "    region_series.append(regions[t])\n",
    "\n",
    "print(len(region_series))"
   ]
  },
  {
   "cell_type": "code",
   "execution_count": 56,
   "metadata": {},
   "outputs": [
    {
     "data": {
      "text/html": [
       "<div>\n",
       "<style scoped>\n",
       "    .dataframe tbody tr th:only-of-type {\n",
       "        vertical-align: middle;\n",
       "    }\n",
       "\n",
       "    .dataframe tbody tr th {\n",
       "        vertical-align: top;\n",
       "    }\n",
       "\n",
       "    .dataframe thead th {\n",
       "        text-align: right;\n",
       "    }\n",
       "</style>\n",
       "<table border=\"1\" class=\"dataframe\">\n",
       "  <thead>\n",
       "    <tr style=\"text-align: right;\">\n",
       "      <th></th>\n",
       "      <th>town</th>\n",
       "      <th>resale_price</th>\n",
       "      <th>region</th>\n",
       "    </tr>\n",
       "  </thead>\n",
       "  <tbody>\n",
       "    <tr>\n",
       "      <th>0</th>\n",
       "      <td>ANG MO KIO</td>\n",
       "      <td>9000</td>\n",
       "      <td>North-East</td>\n",
       "    </tr>\n",
       "    <tr>\n",
       "      <th>1</th>\n",
       "      <td>ANG MO KIO</td>\n",
       "      <td>6000</td>\n",
       "      <td>North-East</td>\n",
       "    </tr>\n",
       "    <tr>\n",
       "      <th>2</th>\n",
       "      <td>ANG MO KIO</td>\n",
       "      <td>8000</td>\n",
       "      <td>North-East</td>\n",
       "    </tr>\n",
       "    <tr>\n",
       "      <th>3</th>\n",
       "      <td>ANG MO KIO</td>\n",
       "      <td>6000</td>\n",
       "      <td>North-East</td>\n",
       "    </tr>\n",
       "    <tr>\n",
       "      <th>4</th>\n",
       "      <td>ANG MO KIO</td>\n",
       "      <td>47200</td>\n",
       "      <td>North-East</td>\n",
       "    </tr>\n",
       "    <tr>\n",
       "      <th>...</th>\n",
       "      <td>...</td>\n",
       "      <td>...</td>\n",
       "      <td>...</td>\n",
       "    </tr>\n",
       "    <tr>\n",
       "      <th>287191</th>\n",
       "      <td>YISHUN</td>\n",
       "      <td>456000</td>\n",
       "      <td>North</td>\n",
       "    </tr>\n",
       "    <tr>\n",
       "      <th>287192</th>\n",
       "      <td>YISHUN</td>\n",
       "      <td>408000</td>\n",
       "      <td>North</td>\n",
       "    </tr>\n",
       "    <tr>\n",
       "      <th>287193</th>\n",
       "      <td>YISHUN</td>\n",
       "      <td>469000</td>\n",
       "      <td>North</td>\n",
       "    </tr>\n",
       "    <tr>\n",
       "      <th>287194</th>\n",
       "      <td>YISHUN</td>\n",
       "      <td>440000</td>\n",
       "      <td>North</td>\n",
       "    </tr>\n",
       "    <tr>\n",
       "      <th>287195</th>\n",
       "      <td>YISHUN</td>\n",
       "      <td>484000</td>\n",
       "      <td>North</td>\n",
       "    </tr>\n",
       "  </tbody>\n",
       "</table>\n",
       "<p>287196 rows × 3 columns</p>\n",
       "</div>"
      ],
      "text/plain": [
       "              town  resale_price      region\n",
       "0       ANG MO KIO          9000  North-East\n",
       "1       ANG MO KIO          6000  North-East\n",
       "2       ANG MO KIO          8000  North-East\n",
       "3       ANG MO KIO          6000  North-East\n",
       "4       ANG MO KIO         47200  North-East\n",
       "...            ...           ...         ...\n",
       "287191      YISHUN        456000       North\n",
       "287192      YISHUN        408000       North\n",
       "287193      YISHUN        469000       North\n",
       "287194      YISHUN        440000       North\n",
       "287195      YISHUN        484000       North\n",
       "\n",
       "[287196 rows x 3 columns]"
      ]
     },
     "execution_count": 56,
     "metadata": {},
     "output_type": "execute_result"
    }
   ],
   "source": [
    "df_town['region'] = region_series\n",
    "\n",
    "df_town"
   ]
  },
  {
   "cell_type": "code",
   "execution_count": 57,
   "metadata": {},
   "outputs": [
    {
     "data": {
      "image/png": "[encoded data removed]",
      "text/plain": [
       "<Figure size 432x288 with 1 Axes>"
      ]
     },
     "metadata": {
      "needs_background": "light"
     },
     "output_type": "display_data"
    }
   ],
   "source": [
    "# Show distribution of data counts by region\n",
    "\n",
    "data_counts_by_region = df_town.groupby(['region'])['region'].count()\n",
    "\n",
    "plt.bar(data_counts_by_region.index, data_counts_by_region.values)\n",
    "plt.xlabel('Region')\n",
    "plt.ylabel('Transaction count')\n",
    "plt.title('Number of resale transaction by region from 1990 to 1999')\n",
    "plt.show()"
   ]
  },
  {
   "cell_type": "code",
   "execution_count": 58,
   "metadata": {},
   "outputs": [
    {
     "data": {
      "image/png": "[encoded data removed]",
      "text/plain": [
       "<Figure size 432x288 with 1 Axes>"
      ]
     },
     "metadata": {
      "needs_background": "light"
     },
     "output_type": "display_data"
    }
   ],
   "source": [
    "# Show price distribution by region\n",
    "\n",
    "avg_prices_by_region = df_town.groupby(['region'])['resale_price'].median()\n",
    "\n",
    "plt.bar(avg_prices_by_region.index, avg_prices_by_region.values)\n",
    "plt.xlabel('Region')\n",
    "plt.ylabel('Average resale price')\n",
    "plt.title('Average resale price by region from 1990 to 1999')\n",
    "plt.show()"
   ]
  },
  {
   "cell_type": "markdown",
   "metadata": {},
   "source": [
    "## Conclusions from town column\n",
    "\n",
    "* Some of the towns have significantly lower data points (E.g. Bukit Timah, Lim Chu Kang, Sembawang, Sengkang)\n",
    "* There is large variance in average resale price across the different towns\n",
    "* In attempts to make the data more robust, grouping data by regions makes each region more equally represented \n",
    "* However, this removes the variance as the average resale price becomes relatively similar"
   ]
  },
  {
   "cell_type": "markdown",
   "metadata": {},
   "source": [
    "## Analysis on flat type column"
   ]
  },
  {
   "cell_type": "code",
   "execution_count": 61,
   "metadata": {},
   "outputs": [
    {
     "data": {
      "text/html": [
       "<div>\n",
       "<style scoped>\n",
       "    .dataframe tbody tr th:only-of-type {\n",
       "        vertical-align: middle;\n",
       "    }\n",
       "\n",
       "    .dataframe tbody tr th {\n",
       "        vertical-align: top;\n",
       "    }\n",
       "\n",
       "    .dataframe thead th {\n",
       "        text-align: right;\n",
       "    }\n",
       "</style>\n",
       "<table border=\"1\" class=\"dataframe\">\n",
       "  <thead>\n",
       "    <tr style=\"text-align: right;\">\n",
       "      <th></th>\n",
       "      <th>flat_type</th>\n",
       "      <th>resale_price</th>\n",
       "    </tr>\n",
       "  </thead>\n",
       "  <tbody>\n",
       "    <tr>\n",
       "      <th>0</th>\n",
       "      <td>1 ROOM</td>\n",
       "      <td>9000</td>\n",
       "    </tr>\n",
       "    <tr>\n",
       "      <th>1</th>\n",
       "      <td>1 ROOM</td>\n",
       "      <td>6000</td>\n",
       "    </tr>\n",
       "    <tr>\n",
       "      <th>2</th>\n",
       "      <td>1 ROOM</td>\n",
       "      <td>8000</td>\n",
       "    </tr>\n",
       "    <tr>\n",
       "      <th>3</th>\n",
       "      <td>1 ROOM</td>\n",
       "      <td>6000</td>\n",
       "    </tr>\n",
       "    <tr>\n",
       "      <th>4</th>\n",
       "      <td>3 ROOM</td>\n",
       "      <td>47200</td>\n",
       "    </tr>\n",
       "    <tr>\n",
       "      <th>...</th>\n",
       "      <td>...</td>\n",
       "      <td>...</td>\n",
       "    </tr>\n",
       "    <tr>\n",
       "      <th>287191</th>\n",
       "      <td>EXECUTIVE</td>\n",
       "      <td>456000</td>\n",
       "    </tr>\n",
       "    <tr>\n",
       "      <th>287192</th>\n",
       "      <td>EXECUTIVE</td>\n",
       "      <td>408000</td>\n",
       "    </tr>\n",
       "    <tr>\n",
       "      <th>287193</th>\n",
       "      <td>EXECUTIVE</td>\n",
       "      <td>469000</td>\n",
       "    </tr>\n",
       "    <tr>\n",
       "      <th>287194</th>\n",
       "      <td>EXECUTIVE</td>\n",
       "      <td>440000</td>\n",
       "    </tr>\n",
       "    <tr>\n",
       "      <th>287195</th>\n",
       "      <td>EXECUTIVE</td>\n",
       "      <td>484000</td>\n",
       "    </tr>\n",
       "  </tbody>\n",
       "</table>\n",
       "<p>287196 rows × 2 columns</p>\n",
       "</div>"
      ],
      "text/plain": [
       "        flat_type  resale_price\n",
       "0          1 ROOM          9000\n",
       "1          1 ROOM          6000\n",
       "2          1 ROOM          8000\n",
       "3          1 ROOM          6000\n",
       "4          3 ROOM         47200\n",
       "...           ...           ...\n",
       "287191  EXECUTIVE        456000\n",
       "287192  EXECUTIVE        408000\n",
       "287193  EXECUTIVE        469000\n",
       "287194  EXECUTIVE        440000\n",
       "287195  EXECUTIVE        484000\n",
       "\n",
       "[287196 rows x 2 columns]"
      ]
     },
     "execution_count": 61,
     "metadata": {},
     "output_type": "execute_result"
    }
   ],
   "source": [
    "df_flattype = raw_data[['flat_type', 'resale_price']].copy(deep= True)\n",
    "\n",
    "df_flattype"
   ]
  },
  {
   "cell_type": "code",
   "execution_count": 66,
   "metadata": {},
   "outputs": [
    {
     "data": {
      "image/png": "[encoded data removed]",
      "text/plain": [
       "<Figure size 864x576 with 1 Axes>"
      ]
     },
     "metadata": {
      "needs_background": "light"
     },
     "output_type": "display_data"
    }
   ],
   "source": [
    "data_counts_by_flattype = df_flattype.groupby(['flat_type'])['flat_type'].count()\n",
    "\n",
    "plt.figure(figsize=(12, 8))\n",
    "plt.bar(data_counts_by_flattype.index, data_counts_by_flattype.values)\n",
    "plt.xlabel('Flat type')\n",
    "plt.ylabel('Transaction counts')\n",
    "plt.title('Number of resale transactions by flat type from 1990 to 1999')\n",
    "plt.show()"
   ]
  },
  {
   "cell_type": "code",
   "execution_count": 68,
   "metadata": {},
   "outputs": [
    {
     "data": {
      "image/png": "[encoded data removed]",
      "text/plain": [
       "<Figure size 864x576 with 1 Axes>"
      ]
     },
     "metadata": {
      "needs_background": "light"
     },
     "output_type": "display_data"
    }
   ],
   "source": [
    "avg_prices_by_flattype = df_flattype.groupby(['flat_type'])['resale_price'].mean()\n",
    "\n",
    "plt.figure(figsize= (12, 8))\n",
    "plt.bar(avg_prices_by_flattype.index, avg_prices_by_flattype.values)\n",
    "plt.xlabel('Flat type')\n",
    "plt.ylabel('Average resale price')\n",
    "plt.title('Average resale price by flat type from 1990 to 1999')\n",
    "plt.show()"
   ]
  },
  {
   "cell_type": "markdown",
   "metadata": {},
   "source": [
    "## Conclusions for flat type column\n",
    "\n",
    "* Significantly less data point for 1-room, 2-room and multigeneration flat types - this could lead to lower accuracy in predictions for these flat types\n",
    "* There is large variance in average resale price across different flat types"
   ]
  },
  {
   "cell_type": "markdown",
   "metadata": {},
   "source": []
  }
 ],
 "metadata": {
  "kernelspec": {
   "display_name": "Python 3.10.2 64-bit",
   "language": "python",
   "name": "python3"
  },
  "language_info": {
   "codemirror_mode": {
    "name": "ipython",
    "version": 3
   },
   "file_extension": ".py",
   "mimetype": "text/x-python",
   "name": "python",
   "nbconvert_exporter": "python",
   "pygments_lexer": "ipython3",
   "version": "3.10.2"
  },
  "orig_nbformat": 4,
  "vscode": {
   "interpreter": {
    "hash": "0e019b6fd2dda397c8770d595060ab74eb9f6eac6f0d5a623d9e108379d64029"
   }
  }
 },
 "nbformat": 4,
 "nbformat_minor": 2
}
